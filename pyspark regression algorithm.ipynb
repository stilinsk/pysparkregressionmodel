{
 "cells": [
  {
   "cell_type": "markdown",
   "id": "bbabad59",
   "metadata": {},
   "source": [
    "## PYSPARK REGRESSION ALGORITHM"
   ]
  },
  {
   "cell_type": "markdown",
   "id": "e1573560",
   "metadata": {},
   "source": [
    "In the following notebook we will be predicting the prices of houses in paris based on\n",
    "1.SquareMetres\n",
    "2. Number of rooms\n",
    "3. Whether it has a  yard or not\n",
    "4.Whether has a pool or not\n",
    "5. Number of floors\n",
    "6.city code\n",
    "7CityPartRange\n",
    "8. Number of previous owners\n",
    "9.is new built\n",
    "10. Whether has a storm Protector or not\n",
    "11. Whether has a basement or not\n",
    "12. Whether has a garage\n",
    "13. Whether has a storage room or not\n",
    "14. Has a guest room\n"
   ]
  },
  {
   "cell_type": "code",
   "execution_count": 10,
   "id": "4fb84ef8",
   "metadata": {
    "scrolled": false
   },
   "outputs": [
    {
     "name": "stdout",
     "output_type": "stream",
     "text": [
      "root\n",
      " |-- squareMeters: integer (nullable = true)\n",
      " |-- numberOfRooms: integer (nullable = true)\n",
      " |-- hasYard: integer (nullable = true)\n",
      " |-- hasPool: integer (nullable = true)\n",
      " |-- floors: integer (nullable = true)\n",
      " |-- cityCode: integer (nullable = true)\n",
      " |-- cityPartRange: integer (nullable = true)\n",
      " |-- numPrevOwners: integer (nullable = true)\n",
      " |-- made: integer (nullable = true)\n",
      " |-- isNewBuilt: integer (nullable = true)\n",
      " |-- hasStormProtector: integer (nullable = true)\n",
      " |-- basement: integer (nullable = true)\n",
      " |-- attic: integer (nullable = true)\n",
      " |-- garage: integer (nullable = true)\n",
      " |-- hasStorageRoom: integer (nullable = true)\n",
      " |-- hasGuestRoom: integer (nullable = true)\n",
      " |-- price: double (nullable = true)\n",
      "\n"
     ]
    }
   ],
   "source": [
    "from pyspark.sql import SparkSession\n",
    "spark = SparkSession.builder.appName('housing').getOrCreate()\n",
    "house_df = spark.read.csv('ParisHousing.csv', header = True, inferSchema = True)\n",
    "house_df.printSchema()"
   ]
  },
  {
   "cell_type": "markdown",
   "id": "9a99d097",
   "metadata": {},
   "source": [
    "In the below code we will be looking a the distribution of all the numerical columns in our dataset"
   ]
  },
  {
   "cell_type": "code",
   "execution_count": 11,
   "id": "59a1053a",
   "metadata": {
    "scrolled": true
   },
   "outputs": [
    {
     "data": {
      "text/html": [
       "<div>\n",
       "<style scoped>\n",
       "    .dataframe tbody tr th:only-of-type {\n",
       "        vertical-align: middle;\n",
       "    }\n",
       "\n",
       "    .dataframe tbody tr th {\n",
       "        vertical-align: top;\n",
       "    }\n",
       "\n",
       "    .dataframe thead th {\n",
       "        text-align: right;\n",
       "    }\n",
       "</style>\n",
       "<table border=\"1\" class=\"dataframe\">\n",
       "  <thead>\n",
       "    <tr style=\"text-align: right;\">\n",
       "      <th></th>\n",
       "      <th>summary</th>\n",
       "      <th>squareMeters</th>\n",
       "      <th>numberOfRooms</th>\n",
       "      <th>hasYard</th>\n",
       "      <th>hasPool</th>\n",
       "      <th>floors</th>\n",
       "      <th>cityCode</th>\n",
       "      <th>cityPartRange</th>\n",
       "      <th>numPrevOwners</th>\n",
       "      <th>made</th>\n",
       "      <th>isNewBuilt</th>\n",
       "      <th>hasStormProtector</th>\n",
       "      <th>basement</th>\n",
       "      <th>attic</th>\n",
       "      <th>garage</th>\n",
       "      <th>hasStorageRoom</th>\n",
       "      <th>hasGuestRoom</th>\n",
       "      <th>price</th>\n",
       "    </tr>\n",
       "  </thead>\n",
       "  <tbody>\n",
       "    <tr>\n",
       "      <th>0</th>\n",
       "      <td>count</td>\n",
       "      <td>10000</td>\n",
       "      <td>10000</td>\n",
       "      <td>10000</td>\n",
       "      <td>10000</td>\n",
       "      <td>10000</td>\n",
       "      <td>10000</td>\n",
       "      <td>10000</td>\n",
       "      <td>10000</td>\n",
       "      <td>10000</td>\n",
       "      <td>10000</td>\n",
       "      <td>10000</td>\n",
       "      <td>10000</td>\n",
       "      <td>10000</td>\n",
       "      <td>10000</td>\n",
       "      <td>10000</td>\n",
       "      <td>10000</td>\n",
       "      <td>10000</td>\n",
       "    </tr>\n",
       "    <tr>\n",
       "      <th>1</th>\n",
       "      <td>mean</td>\n",
       "      <td>49870.1312</td>\n",
       "      <td>50.3584</td>\n",
       "      <td>0.5087</td>\n",
       "      <td>0.4968</td>\n",
       "      <td>50.2763</td>\n",
       "      <td>50225.4861</td>\n",
       "      <td>5.5101</td>\n",
       "      <td>5.5217</td>\n",
       "      <td>2005.4885</td>\n",
       "      <td>0.4991</td>\n",
       "      <td>0.4999</td>\n",
       "      <td>5033.1039</td>\n",
       "      <td>5028.0106</td>\n",
       "      <td>553.1212</td>\n",
       "      <td>0.503</td>\n",
       "      <td>4.9946</td>\n",
       "      <td>4993447.525749963</td>\n",
       "    </tr>\n",
       "    <tr>\n",
       "      <th>2</th>\n",
       "      <td>stddev</td>\n",
       "      <td>28774.37535029503</td>\n",
       "      <td>28.81669636927458</td>\n",
       "      <td>0.4999493023602426</td>\n",
       "      <td>0.5000147612582521</td>\n",
       "      <td>28.88917127111252</td>\n",
       "      <td>29006.675799293178</td>\n",
       "      <td>2.87202417160515</td>\n",
       "      <td>2.8566667927002753</td>\n",
       "      <td>9.308089589340009</td>\n",
       "      <td>0.5000241918339955</td>\n",
       "      <td>0.5000249918746555</td>\n",
       "      <td>2876.7295448116365</td>\n",
       "      <td>2894.3322098165813</td>\n",
       "      <td>262.0501698906411</td>\n",
       "      <td>0.5000160013441162</td>\n",
       "      <td>3.1764098913678978</td>\n",
       "      <td>2877424.109945015</td>\n",
       "    </tr>\n",
       "    <tr>\n",
       "      <th>3</th>\n",
       "      <td>min</td>\n",
       "      <td>89</td>\n",
       "      <td>1</td>\n",
       "      <td>0</td>\n",
       "      <td>0</td>\n",
       "      <td>1</td>\n",
       "      <td>3</td>\n",
       "      <td>1</td>\n",
       "      <td>1</td>\n",
       "      <td>1990</td>\n",
       "      <td>0</td>\n",
       "      <td>0</td>\n",
       "      <td>0</td>\n",
       "      <td>1</td>\n",
       "      <td>100</td>\n",
       "      <td>0</td>\n",
       "      <td>0</td>\n",
       "      <td>10313.5</td>\n",
       "    </tr>\n",
       "    <tr>\n",
       "      <th>4</th>\n",
       "      <td>max</td>\n",
       "      <td>99999</td>\n",
       "      <td>100</td>\n",
       "      <td>1</td>\n",
       "      <td>1</td>\n",
       "      <td>100</td>\n",
       "      <td>99953</td>\n",
       "      <td>10</td>\n",
       "      <td>10</td>\n",
       "      <td>2021</td>\n",
       "      <td>1</td>\n",
       "      <td>1</td>\n",
       "      <td>10000</td>\n",
       "      <td>10000</td>\n",
       "      <td>1000</td>\n",
       "      <td>1</td>\n",
       "      <td>10</td>\n",
       "      <td>1.00067712E7</td>\n",
       "    </tr>\n",
       "  </tbody>\n",
       "</table>\n",
       "</div>"
      ],
      "text/plain": [
       "  summary       squareMeters      numberOfRooms             hasYard  \\\n",
       "0   count              10000              10000               10000   \n",
       "1    mean         49870.1312            50.3584              0.5087   \n",
       "2  stddev  28774.37535029503  28.81669636927458  0.4999493023602426   \n",
       "3     min                 89                  1                   0   \n",
       "4     max              99999                100                   1   \n",
       "\n",
       "              hasPool             floors            cityCode  \\\n",
       "0               10000              10000               10000   \n",
       "1              0.4968            50.2763          50225.4861   \n",
       "2  0.5000147612582521  28.88917127111252  29006.675799293178   \n",
       "3                   0                  1                   3   \n",
       "4                   1                100               99953   \n",
       "\n",
       "      cityPartRange       numPrevOwners               made  \\\n",
       "0             10000               10000              10000   \n",
       "1            5.5101              5.5217          2005.4885   \n",
       "2  2.87202417160515  2.8566667927002753  9.308089589340009   \n",
       "3                 1                   1               1990   \n",
       "4                10                  10               2021   \n",
       "\n",
       "           isNewBuilt   hasStormProtector            basement  \\\n",
       "0               10000               10000               10000   \n",
       "1              0.4991              0.4999           5033.1039   \n",
       "2  0.5000241918339955  0.5000249918746555  2876.7295448116365   \n",
       "3                   0                   0                   0   \n",
       "4                   1                   1               10000   \n",
       "\n",
       "                attic             garage      hasStorageRoom  \\\n",
       "0               10000              10000               10000   \n",
       "1           5028.0106           553.1212               0.503   \n",
       "2  2894.3322098165813  262.0501698906411  0.5000160013441162   \n",
       "3                   1                100                   0   \n",
       "4               10000               1000                   1   \n",
       "\n",
       "         hasGuestRoom              price  \n",
       "0               10000              10000  \n",
       "1              4.9946  4993447.525749963  \n",
       "2  3.1764098913678978  2877424.109945015  \n",
       "3                   0            10313.5  \n",
       "4                  10       1.00067712E7  "
      ]
     },
     "execution_count": 11,
     "metadata": {},
     "output_type": "execute_result"
    }
   ],
   "source": [
    "house_df.describe().toPandas()"
   ]
  },
  {
   "cell_type": "markdown",
   "id": "2043eb7c",
   "metadata": {},
   "source": [
    "Here we will look at the correlation of our indipendent variables in respect to our target variable column"
   ]
  },
  {
   "cell_type": "code",
   "execution_count": 12,
   "id": "eaad5c68",
   "metadata": {
    "scrolled": true
   },
   "outputs": [
    {
     "name": "stdout",
     "output_type": "stream",
     "text": [
      "Correlation to for price  squareMeters 0.9999993570640745\n",
      "Correlation to for price  numberOfRooms 0.009590905935479128\n",
      "Correlation to for price  hasYard -0.006119244882540526\n",
      "Correlation to for price  hasPool -0.00507034083386251\n",
      "Correlation to for price  floors 0.0016542562406504926\n",
      "Correlation to for price  cityCode -0.001539367348580816\n",
      "Correlation to for price  cityPartRange 0.008812911660535336\n",
      "Correlation to for price  numPrevOwners 0.016618826067943387\n",
      "Correlation to for price  made -0.007209526254690673\n",
      "Correlation to for price  isNewBuilt -0.010642774359518865\n",
      "Correlation to for price  hasStormProtector 0.0074959113342807394\n",
      "Correlation to for price  basement -0.003967482178851144\n",
      "Correlation to for price  attic -0.000599514077496332\n",
      "Correlation to for price  garage -0.017229051207338166\n",
      "Correlation to for price  hasStorageRoom -0.0034852993013792864\n",
      "Correlation to for price  hasGuestRoom -0.0006439241048174541\n",
      "Correlation to for price  price 1.0\n"
     ]
    }
   ],
   "source": [
    "import six\n",
    "for i in house_df.columns:\n",
    "    if not( isinstance(house_df.select(i).take(1)[0][0], six.string_types)):\n",
    "        print( \"Correlation to for price \", i, house_df.stat.corr('price',i))"
   ]
  },
  {
   "cell_type": "code",
   "execution_count": 13,
   "id": "4e29ff92",
   "metadata": {},
   "outputs": [
    {
     "data": {
      "text/plain": [
       "[('squareMeters', 'int'),\n",
       " ('numberOfRooms', 'int'),\n",
       " ('hasYard', 'int'),\n",
       " ('hasPool', 'int'),\n",
       " ('floors', 'int'),\n",
       " ('cityCode', 'int'),\n",
       " ('cityPartRange', 'int'),\n",
       " ('numPrevOwners', 'int'),\n",
       " ('made', 'int'),\n",
       " ('isNewBuilt', 'int'),\n",
       " ('hasStormProtector', 'int'),\n",
       " ('basement', 'int'),\n",
       " ('attic', 'int'),\n",
       " ('garage', 'int'),\n",
       " ('hasStorageRoom', 'int'),\n",
       " ('hasGuestRoom', 'int'),\n",
       " ('price', 'double')]"
      ]
     },
     "execution_count": 13,
     "metadata": {},
     "output_type": "execute_result"
    }
   ],
   "source": [
    "house_df.dtypes"
   ]
  },
  {
   "cell_type": "markdown",
   "id": "8d3ad9e2",
   "metadata": {},
   "source": [
    "It identifies the numeric columns in the DataFrame by checking their data types. It creates a list called numeric_features that contains the names of these numeric columns.\n",
    "It samples 80% of the rows from the DataFrame df using the sample method with a sampling fraction of 0.8. The sampled data is converted to a Pandas DataFrame using the toPandas() method.\n",
    "It creates a scatter matrix plot using pd.plotting.scatter_matrix function. The scatter matrix plot is a grid of scatter plots where each numeric feature is plotted against all other numeric features. It provides a visual representation of the pairwise relationships between the variables."
   ]
  },
  {
   "cell_type": "code",
   "execution_count": 18,
   "id": "54a95868",
   "metadata": {},
   "outputs": [
    {
     "data": {
      "image/png": "[encoded data removed]",
      "text/plain": [
       "<Figure size 1000x1000 with 289 Axes>"
      ]
     },
     "metadata": {},
     "output_type": "display_data"
    }
   ],
   "source": [
    "import pandas as pd\n",
    "import matplotlib.pyplot as plt\n",
    "\n",
    "# Your code to read the data and create the DataFrame goes here\n",
    "\n",
    "numeric_features = [t[0] for t in house_df.dtypes if t[1] == 'int' or t[1] == 'double']\n",
    "sampled_data = house_df.select(numeric_features).sample(False, 0.8).toPandas()\n",
    "\n",
    "scatter_matrix = pd.plotting.scatter_matrix(sampled_data, figsize=(10, 10))\n",
    "plt.show()\n"
   ]
  },
  {
   "cell_type": "markdown",
   "id": "34c8cb58",
   "metadata": {},
   "source": [
    "The VectorAssembler class is imported from the pyspark.ml.feature module.\n",
    "An instance of VectorAssembler is created with the following parameters:\n",
    "inputCols: A list of column names representing the input features. In this case, the list contains multiple column names such as 'squareMeters', 'numberOfRooms', 'hasYard', and so on.\n",
    "outputCol: The name of the output column where the assembled vector will be stored. In this case, it's set to 'features'.\n",
    "The transform method of the vectorAssembler object is called on the house_df DataFrame. It transforms the DataFrame by adding a new column named 'features', which contains the assembled vector of input features.\n",
    "The take(1) method is called on the transformed DataFrame vhouse_df. This retrieves the first row of the DataFrame as a list.\n",
    "\n",
    "The VectorAssembler is commonly used in Spark machine learning pipelines to prepare features for model training. By combining multiple input columns into a single vector column, it enables easier processing and compatibility with Spark ML algorithms that expect input in vector form."
   ]
  },
  {
   "cell_type": "code",
   "execution_count": 19,
   "id": "59c36493",
   "metadata": {},
   "outputs": [
    {
     "data": {
      "text/plain": [
       "[Row(squareMeters=75523, numberOfRooms=3, hasYard=0, hasPool=1, floors=63, cityCode=9373, cityPartRange=3, numPrevOwners=8, made=2005, isNewBuilt=0, hasStormProtector=1, basement=4313, attic=9005, garage=956, hasStorageRoom=0, hasGuestRoom=7, price=7559081.5, features=DenseVector([75523.0, 3.0, 0.0, 1.0, 63.0, 9373.0, 3.0, 8.0, 2005.0, 0.0, 1.0, 4313.0, 9005.0, 956.0, 0.0, 7.0]))]"
      ]
     },
     "execution_count": 19,
     "metadata": {},
     "output_type": "execute_result"
    }
   ],
   "source": [
    "from pyspark.ml.feature import VectorAssembler\n",
    "\n",
    "vectorAssembler = VectorAssembler(inputCols = \n",
    "['squareMeters', 'numberOfRooms', 'hasYard', 'hasPool', 'floors', 'cityCode', 'cityPartRange', 'numPrevOwners', 'made', 'isNewBuilt', 'hasStormProtector', 'basement', 'attic', 'garage', 'hasStorageRoom', 'hasGuestRoom'\n",
    "], outputCol = 'features')\n",
    "vhouse_df = vectorAssembler.transform(house_df)\n",
    "\n",
    "vhouse_df.take(1)"
   ]
  },
  {
   "cell_type": "code",
   "execution_count": 20,
   "id": "ab49b916",
   "metadata": {},
   "outputs": [
    {
     "name": "stdout",
     "output_type": "stream",
     "text": [
      "['squareMeters', 'numberOfRooms', 'hasYard', 'hasPool', 'floors', 'cityCode', 'cityPartRange', 'numPrevOwners', 'made', 'isNewBuilt', 'hasStormProtector', 'basement', 'attic', 'garage', 'hasStorageRoom', 'hasGuestRoom', 'price']\n"
     ]
    }
   ],
   "source": [
    "column_list = house_df.columns\n",
    "print(column_list)\n"
   ]
  },
  {
   "cell_type": "code",
   "execution_count": 21,
   "id": "0a9e804a",
   "metadata": {},
   "outputs": [
    {
     "name": "stdout",
     "output_type": "stream",
     "text": [
      "+--------------------+---------+\n",
      "|            features|    price|\n",
      "+--------------------+---------+\n",
      "|[75523.0,3.0,0.0,...|7559081.5|\n",
      "|[80771.0,39.0,1.0...|8085989.5|\n",
      "|[55712.0,58.0,0.0...|5574642.1|\n",
      "+--------------------+---------+\n",
      "only showing top 3 rows\n",
      "\n"
     ]
    }
   ],
   "source": [
    "vhouse_df = vhouse_df.select(['features', 'price'])\n",
    "vhouse_df.show(3)"
   ]
  },
  {
   "cell_type": "markdown",
   "id": "d870050d",
   "metadata": {},
   "source": [
    "Here we will start the splitting of our dataset into train and test data to begin  training our model"
   ]
  },
  {
   "cell_type": "code",
   "execution_count": 22,
   "id": "660a32b2",
   "metadata": {},
   "outputs": [],
   "source": [
    "splits = vhouse_df.randomSplit([0.7, 0.3])\n",
    "train_df = splits[0]\n",
    "test_df = splits[1]"
   ]
  },
  {
   "cell_type": "markdown",
   "id": "8b582706",
   "metadata": {},
   "source": [
    "## LINEAR REGRESSION MODEL"
   ]
  },
  {
   "cell_type": "markdown",
   "id": "38c45f08",
   "metadata": {},
   "source": [
    "The LinearRegression class is imported from the pyspark.ml.regression module.\n",
    "An instance of LinearRegression is created with the following parameters:\n",
    "featuresCol: The name of the input column that contains the assembled feature vector. In this case, it's set to 'features'.\n",
    "labelCol: The name of the column that contains the target variable or label. In this case, it's set to 'price'.\n",
    "maxIter: The maximum number of iterations for the optimization algorithm. It's set to 10 in this case.\n",
    "regParam: The regularization parameter for controlling overfitting. It's set to 0.3, which determines the strength of the regularization.\n",
    "elasticNetParam: The mixing parameter between L1 and L2 regularization. It's set to 0.8, indicating a higher emphasis on L1 regularization (LASSO).\n",
    "The fit method of the lr object is called on the train_df DataFrame. It fits the linear regression model to the training data and returns a LinearRegressionModel object.\n",
    "The coefficients of the trained linear regression model are printed using lr_model.coefficients.\n",
    "The intercept of the trained linear regression model is printed using lr_model.intercept."
   ]
  },
  {
   "cell_type": "code",
   "execution_count": 23,
   "id": "fa4a2f15",
   "metadata": {
    "scrolled": true
   },
   "outputs": [
    {
     "name": "stdout",
     "output_type": "stream",
     "text": [
      "Coefficients: [99.9998604435825,0.13189783477533978,2971.0136471264227,2975.1116906751704,55.152661125550274,-0.0011270866020865143,47.13067701099789,7.6812244009179285,-2.5174377046591854,155.6078203686164,139.20167334600671,-0.00113603675428869,-0.012859433418450786,0.03508281364200009,-23.11352883743656,-6.2383816051051815]\n",
      "Intercept: 5407.045327011325\n"
     ]
    }
   ],
   "source": [
    "from pyspark.ml.regression import LinearRegression\n",
    "\n",
    "lr = LinearRegression(featuresCol = 'features', labelCol='price', maxIter=10, regParam=0.3, elasticNetParam=0.8)\n",
    "lr_model = lr.fit(train_df)\n",
    "print(\"Coefficients: \" + str(lr_model.coefficients))\n",
    "print(\"Intercept: \" + str(lr_model.intercept))"
   ]
  },
  {
   "cell_type": "code",
   "execution_count": 24,
   "id": "415ee4ef",
   "metadata": {},
   "outputs": [
    {
     "name": "stdout",
     "output_type": "stream",
     "text": [
      "RMSE: 1889.040452\n",
      "r2: 1.000000\n"
     ]
    }
   ],
   "source": [
    "trainingSummary = lr_model.summary\n",
    "print(\"RMSE: %f\" % trainingSummary.rootMeanSquaredError)\n",
    "print(\"r2: %f\" % trainingSummary.r2)"
   ]
  },
  {
   "cell_type": "code",
   "execution_count": 25,
   "id": "1520f313",
   "metadata": {},
   "outputs": [
    {
     "name": "stdout",
     "output_type": "stream",
     "text": [
      "+-------+------------------+\n",
      "|summary|             price|\n",
      "+-------+------------------+\n",
      "|  count|              6971|\n",
      "|   mean| 4997398.339348727|\n",
      "| stddev|2865851.3892346956|\n",
      "|    min|           13229.1|\n",
      "|    max|      1.00067712E7|\n",
      "+-------+------------------+\n",
      "\n"
     ]
    }
   ],
   "source": [
    "train_df.describe().show()"
   ]
  },
  {
   "cell_type": "code",
   "execution_count": 26,
   "id": "b1afb0e0",
   "metadata": {
    "scrolled": true
   },
   "outputs": [
    {
     "name": "stdout",
     "output_type": "stream",
     "text": [
      "+------------------+-------+--------------------+\n",
      "|        prediction|  price|            features|\n",
      "+------------------+-------+--------------------+\n",
      "| 13412.21299624438|10313.5|[89.0,33.0,0.0,0....|\n",
      "| 20893.24998517955|22670.7|[141.0,16.0,0.0,1...|\n",
      "| 17820.65029796921|17071.0|[143.0,27.0,0.0,0...|\n",
      "|22744.813172218073|22160.2|[152.0,80.0,1.0,1...|\n",
      "|21653.024894486407|19788.5|[163.0,35.0,0.0,0...|\n",
      "+------------------+-------+--------------------+\n",
      "only showing top 5 rows\n",
      "\n",
      "R Squared (R2) on test data = 1\n"
     ]
    }
   ],
   "source": [
    "lr_predictions = lr_model.transform(test_df)\n",
    "lr_predictions.select(\"prediction\",\"price\",\"features\").show(5)\n",
    "\n",
    "from pyspark.ml.evaluation import RegressionEvaluator\n",
    "lr_evaluator = RegressionEvaluator(predictionCol=\"prediction\", \\\n",
    "                 labelCol=\"price\",metricName=\"r2\")\n",
    "print(\"R Squared (R2) on test data = %g\" % lr_evaluator.evaluate(lr_predictions))"
   ]
  },
  {
   "cell_type": "markdown",
   "id": "9f6e6ea8",
   "metadata": {},
   "source": [
    "Our model is perfoming at its best very rare chances of this but the perfomance of the data on the test and train data is remarkable. The model is perfominga at 100%"
   ]
  },
  {
   "cell_type": "code",
   "execution_count": 27,
   "id": "06a3bb35",
   "metadata": {},
   "outputs": [
    {
     "name": "stdout",
     "output_type": "stream",
     "text": [
      "Root Mean Squared Error (RMSE) on test data = 1917.21\n"
     ]
    }
   ],
   "source": [
    "test_result = lr_model.evaluate(test_df)\n",
    "print(\"Root Mean Squared Error (RMSE) on test data = %g\" % test_result.rootMeanSquaredError)"
   ]
  },
  {
   "cell_type": "code",
   "execution_count": 28,
   "id": "d2735c0f",
   "metadata": {},
   "outputs": [
    {
     "name": "stdout",
     "output_type": "stream",
     "text": [
      "numIterations: 10\n",
      "objectiveHistory: [0.4999999999999998, 0.40043604065875243, 0.10007765171621154, 0.025005602074799002, 0.0062488357386909525, 0.0015643990212136107, 0.0003915040308262984, 3.1866066193724406e-07, 3.116545191302897e-07, 3.11640767258547e-07, 3.1164073072988173e-07]\n",
      "+-------------------+\n",
      "|          residuals|\n",
      "+-------------------+\n",
      "|-1958.5151583395382|\n",
      "| 102.72822811301194|\n",
      "|-1210.8587521101945|\n",
      "| 1345.7165726077255|\n",
      "|  522.6126217857545|\n",
      "|-215.70660975090868|\n",
      "|-1014.6057096219192|\n",
      "|-1127.0246047383553|\n",
      "|  -2650.87618128931|\n",
      "| -4928.730973116089|\n",
      "|-1221.8532469207967|\n",
      "| -359.5800729904222|\n",
      "|  751.6107406450465|\n",
      "| -848.3320761285686|\n",
      "|-1908.0413337571226|\n",
      "| -1323.530744865253|\n",
      "|  36.45461366533709|\n",
      "| -399.9646513853477|\n",
      "|  18.14160830793844|\n",
      "| -3016.322215274442|\n",
      "+-------------------+\n",
      "only showing top 20 rows\n",
      "\n"
     ]
    }
   ],
   "source": [
    "print(\"numIterations: %d\" % trainingSummary.totalIterations)\n",
    "print(\"objectiveHistory: %s\" % str(trainingSummary.objectiveHistory))\n",
    "trainingSummary.residuals.show()"
   ]
  },
  {
   "cell_type": "code",
   "execution_count": 29,
   "id": "23ce4623",
   "metadata": {
    "scrolled": true
   },
   "outputs": [
    {
     "name": "stdout",
     "output_type": "stream",
     "text": [
      "+------------------+-------+--------------------+\n",
      "|        prediction|  price|            features|\n",
      "+------------------+-------+--------------------+\n",
      "| 13412.21299624438|10313.5|[89.0,33.0,0.0,0....|\n",
      "| 20893.24998517955|22670.7|[141.0,16.0,0.0,1...|\n",
      "| 17820.65029796921|17071.0|[143.0,27.0,0.0,0...|\n",
      "|22744.813172218073|22160.2|[152.0,80.0,1.0,1...|\n",
      "|21653.024894486407|19788.5|[163.0,35.0,0.0,0...|\n",
      "| 18918.19352693172|18985.0|[176.0,30.0,0.0,0...|\n",
      "|27717.053551680212|26533.9|[187.0,96.0,1.0,1...|\n",
      "|28282.005658722333|28295.6|[202.0,18.0,1.0,0...|\n",
      "|27924.199996730098|28656.5|[235.0,86.0,0.0,0...|\n",
      "|31528.945091030786|30703.1|[272.0,79.0,0.0,1...|\n",
      "| 34093.63503738733|34115.4|[281.0,52.0,0.0,1...|\n",
      "| 35659.35212191695|37033.1|[299.0,38.0,1.0,0...|\n",
      "|35846.600083012745|34373.4|[302.0,23.0,1.0,0...|\n",
      "|37995.116769691274|37972.0|[350.0,65.0,0.0,0...|\n",
      "|46146.725738720575|45524.8|[371.0,29.0,1.0,0...|\n",
      "|48110.814975934496|45184.2|[380.0,4.0,1.0,1....|\n",
      "| 44571.41026912053|43545.0|[389.0,28.0,0.0,1...|\n",
      "| 47836.34493681228|46790.6|[416.0,46.0,0.0,1...|\n",
      "| 48939.78216970719|50344.1|[449.0,31.0,0.0,0...|\n",
      "|47515.417273794286|47257.3|[460.0,3.0,0.0,0....|\n",
      "+------------------+-------+--------------------+\n",
      "only showing top 20 rows\n",
      "\n"
     ]
    }
   ],
   "source": [
    "predictions = lr_model.transform(test_df)\n",
    "predictions.select(\"prediction\",\"price\",\"features\").show()"
   ]
  },
  {
   "cell_type": "markdown",
   "id": "888934b2",
   "metadata": {},
   "source": [
    "## DECISION TREE REGRESSOR"
   ]
  },
  {
   "cell_type": "code",
   "execution_count": 30,
   "id": "779df8ab",
   "metadata": {},
   "outputs": [
    {
     "name": "stdout",
     "output_type": "stream",
     "text": [
      "Root Mean Squared Error (RMSE) on test data = 90565.5\n"
     ]
    }
   ],
   "source": [
    "from pyspark.ml.regression import DecisionTreeRegressor\n",
    "\n",
    "dt = DecisionTreeRegressor(featuresCol ='features', labelCol = 'price')\n",
    "dt_model = dt.fit(train_df)\n",
    "dt_predictions = dt_model.transform(test_df)\n",
    "dt_evaluator = RegressionEvaluator(\n",
    "    labelCol=\"price\", predictionCol=\"prediction\", metricName=\"rmse\")\n",
    "rmse = dt_evaluator.evaluate(dt_predictions)\n",
    "print(\"Root Mean Squared Error (RMSE) on test data = %g\" % rmse)"
   ]
  },
  {
   "cell_type": "code",
   "execution_count": 31,
   "id": "6e88e3ec",
   "metadata": {},
   "outputs": [
    {
     "name": "stdout",
     "output_type": "stream",
     "text": [
      "R2 score on train data = 0.999016\n",
      "R2 score on test data = 0.999027\n"
     ]
    }
   ],
   "source": [
    "from pyspark.ml.evaluation import RegressionEvaluator\n",
    "\n",
    "# Assuming you already have the required imports and have trained the DecisionTreeRegressor\n",
    "\n",
    "# Evaluate R2 score on train data\n",
    "train_predictions = dt_model.transform(train_df)\n",
    "train_evaluator = RegressionEvaluator(\n",
    "    labelCol=\"price\", predictionCol=\"prediction\", metricName=\"r2\")\n",
    "train_r2 = train_evaluator.evaluate(train_predictions)\n",
    "print(\"R2 score on train data = %g\" % train_r2)\n",
    "\n",
    "# Evaluate R2 score on test data\n",
    "test_predictions = dt_model.transform(test_df)\n",
    "test_evaluator = RegressionEvaluator(\n",
    "    labelCol=\"price\", predictionCol=\"prediction\", metricName=\"r2\")\n",
    "test_r2 = test_evaluator.evaluate(test_predictions)\n",
    "print(\"R2 score on test data = %g\" % test_r2)\n"
   ]
  },
  {
   "cell_type": "code",
   "execution_count": 32,
   "id": "ad8f8a09",
   "metadata": {},
   "outputs": [
    {
     "data": {
      "text/plain": [
       "[Row(features=DenseVector([111.0, 32.0, 0.0, 1.0, 34.0, 80623.0, 1.0, 4.0, 2003.0, 1.0, 0.0, 2239.0, 2795.0, 951.0, 1.0, 7.0]), price=14431.3)]"
      ]
     },
     "execution_count": 32,
     "metadata": {},
     "output_type": "execute_result"
    }
   ],
   "source": [
    "train_df.take(1)"
   ]
  },
  {
   "cell_type": "code",
   "execution_count": 32,
   "id": "ea86605b",
   "metadata": {},
   "outputs": [
    {
     "data": {
      "text/plain": [
       "SparseVector(16, {0: 1.0})"
      ]
     },
     "execution_count": 32,
     "metadata": {},
     "output_type": "execute_result"
    }
   ],
   "source": [
    "dt_model.featureImportances"
   ]
  },
  {
   "cell_type": "code",
   "execution_count": 33,
   "id": "08b1c757",
   "metadata": {},
   "outputs": [
    {
     "data": {
      "text/plain": [
       "[Row(squareMeters=75523, numberOfRooms=3, hasYard=0, hasPool=1, floors=63, cityCode=9373, cityPartRange=3, numPrevOwners=8, made=2005, isNewBuilt=0, hasStormProtector=1, basement=4313, attic=9005, garage=956, hasStorageRoom=0, hasGuestRoom=7, price=7559081.5)]"
      ]
     },
     "execution_count": 33,
     "metadata": {},
     "output_type": "execute_result"
    }
   ],
   "source": [
    "house_df.take(1)"
   ]
  },
  {
   "cell_type": "markdown",
   "id": "614970af",
   "metadata": {},
   "source": [
    "We can clearly see that our model is perfoming fairly better even whnen using the decision tree regressor thus we wont need to even  tune our model as its perfoming in the best way possible"
   ]
  },
  {
   "cell_type": "code",
   "execution_count": 36,
   "id": "cf7376bc",
   "metadata": {
    "scrolled": true
   },
   "outputs": [
    {
     "name": "stdout",
     "output_type": "stream",
     "text": [
      "+------------------+-------+--------------------+\n",
      "|        prediction|  price|            features|\n",
      "+------------------+-------+--------------------+\n",
      "|158637.38199921936|10313.5|[89.0,33.0,0.0,0....|\n",
      "|149224.13931138755|22670.7|[141.0,16.0,0.0,1...|\n",
      "|153522.98137022828|17071.0|[143.0,27.0,0.0,0...|\n",
      "|161004.19926667798|22160.2|[152.0,80.0,1.0,1...|\n",
      "|155850.09168893698|19788.5|[163.0,35.0,0.0,0...|\n",
      "+------------------+-------+--------------------+\n",
      "only showing top 5 rows\n",
      "\n"
     ]
    }
   ],
   "source": [
    "from pyspark.ml.regression import GBTRegressor\n",
    "gbt = GBTRegressor(featuresCol = 'features', labelCol = 'price', maxIter=10)\n",
    "gbt_model = gbt.fit(train_df)\n",
    "gbt_predictions = gbt_model.transform(test_df)\n",
    "gbt_predictions.select('prediction', 'price', 'features').show(5)"
   ]
  },
  {
   "cell_type": "code",
   "execution_count": 37,
   "id": "8125a822",
   "metadata": {},
   "outputs": [
    {
     "name": "stdout",
     "output_type": "stream",
     "text": [
      "Root Mean Squared Error (RMSE) on test data = 91112.7\n"
     ]
    }
   ],
   "source": [
    "gbt_evaluator = RegressionEvaluator(\n",
    "    labelCol=\"price\", predictionCol=\"prediction\", metricName=\"rmse\")\n",
    "rmse = gbt_evaluator.evaluate(gbt_predictions)\n",
    "print(\"Root Mean Squared Error (RMSE) on test data = %g\" % rmse)"
   ]
  },
  {
   "cell_type": "code",
   "execution_count": 38,
   "id": "f0960850",
   "metadata": {},
   "outputs": [
    {
     "name": "stdout",
     "output_type": "stream",
     "text": [
      "R2 score on train data = 0.999088\n",
      "R2 score on test data = 0.999016\n"
     ]
    }
   ],
   "source": [
    "from pyspark.ml.evaluation import RegressionEvaluator\n",
    "\n",
    "# Assuming you have already imported necessary modules and fitted the GBTRegressor\n",
    "\n",
    "# Evaluate R2 score on train data\n",
    "train_predictions = gbt_model.transform(train_df)\n",
    "train_evaluator = RegressionEvaluator(\n",
    "    labelCol=\"price\", predictionCol=\"prediction\", metricName=\"r2\")\n",
    "train_r2 = train_evaluator.evaluate(train_predictions)\n",
    "print(\"R2 score on train data = %g\" % train_r2)\n",
    "\n",
    "# Evaluate R2 score on test data\n",
    "test_predictions = gbt_model.transform(test_df)\n",
    "test_evaluator = RegressionEvaluator(\n",
    "    labelCol=\"price\", predictionCol=\"prediction\", metricName=\"r2\")\n",
    "test_r2 = test_evaluator.evaluate(test_predictions)\n",
    "print(\"R2 score on test data = %g\" % test_r2)\n"
   ]
  },
  {
   "cell_type": "markdown",
   "id": "9959fda8",
   "metadata": {},
   "source": [
    "Also when we use the gradient tree boosting model the perfomance is almost similar to the decison  tree model above thus based on the data we have pyspark woupd really suit our model together with its  general and overall perfomance"
   ]
  }
 ],
 "metadata": {
  "kernelspec": {
   "display_name": "Python 3 (ipykernel)",
   "language": "python",
   "name": "python3"
  },
  "language_info": {
   "codemirror_mode": {
    "name": "ipython",
    "version": 3
   },
   "file_extension": ".py",
   "mimetype": "text/x-python",
   "name": "python",
   "nbconvert_exporter": "python",
   "pygments_lexer": "ipython3",
   "version": "3.9.13"
  }
 },
 "nbformat": 4,
 "nbformat_minor": 5
}
